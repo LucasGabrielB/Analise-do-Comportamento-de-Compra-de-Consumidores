{
  "nbformat": 4,
  "nbformat_minor": 0,
  "metadata": {
    "kernelspec": {
      "display_name": "Python 3",
      "language": "python",
      "name": "python3"
    },
    "language_info": {
      "codemirror_mode": {
        "name": "ipython",
        "version": 3
      },
      "file_extension": ".py",
      "mimetype": "text/x-python",
      "name": "python",
      "nbconvert_exporter": "python",
      "pygments_lexer": "ipython3",
      "version": "3.7.6"
    },
    "colab": {
      "name": "missao5.ipynb",
      "provenance": [],
      "collapsed_sections": []
    }
  },
  "cells": [
    {
      "cell_type": "markdown",
      "metadata": {
        "id": "tjKLqUh4gAz4"
      },
      "source": [
        "## Missão: Analisar o Comportamento de Compra de Consumidores."
      ]
    },
    {
      "cell_type": "markdown",
      "metadata": {
        "id": "PIsnMMdKgA0A"
      },
      "source": [
        "## Nível de Dificuldade: Alto"
      ]
    },
    {
      "cell_type": "markdown",
      "metadata": {
        "id": "WSOW9E4NgA0B"
      },
      "source": [
        "Você recebeu a tarefa de analisar os dados de compras de um web site! Os dados estão no formato JSON e disponíveis junto com este notebook.\n",
        "\n",
        "No site, cada usuário efetua login usando sua conta pessoal e pode adquirir produtos à medida que navega pela lista de produtos oferecidos. Cada produto possui um valor de venda. Dados de idade e sexo de cada usuário foram coletados e estão fornecidos no arquivo JSON.\n",
        "\n",
        "Seu trabalho é entregar uma análise de comportamento de compra dos consumidores. Esse é um tipo de atividade comum realizado por Cientistas de Dados e o resultado deste trabalho pode ser usado, por exemplo, para alimentar um modelo de Machine Learning e fazer previsões sobre comportamentos futuros.\n",
        "\n",
        "Mas nesta missão você vai analisar o comportamento de compra dos consumidores usando o pacote Pandas da linguagem Python e seu relatório final deve incluir cada um dos seguintes itens:\n",
        "\n",
        "** Contagem de Consumidores **\n",
        "\n",
        "* Número total de consumidores\n",
        "\n",
        "\n",
        "** Análise Geral de Compras **\n",
        "\n",
        "* Número de itens exclusivos\n",
        "* Preço médio de compra\n",
        "* Número total de compras\n",
        "* Rendimento total\n",
        "\n",
        "\n",
        "** Informações Demográficas Por Gênero **\n",
        "\n",
        "* Porcentagem e contagem de compradores masculinos\n",
        "* Porcentagem e contagem de compradores do sexo feminino\n",
        "* Porcentagem e contagem de outros / não divulgados\n",
        "\n",
        "\n",
        "** Análise de Compras Por Gênero **\n",
        "\n",
        "* Número de compras\n",
        "* Preço médio de compra\n",
        "* Valor Total de Compra\n",
        "* Compras for faixa etária\n",
        "\n",
        "\n",
        "** Identifique os 5 principais compradores pelo valor total de compra e, em seguida, liste (em uma tabela): **\n",
        "\n",
        "* Login\n",
        "* Número de compras\n",
        "* Preço médio de compra\n",
        "* Valor Total de Compra\n",
        "* Itens mais populares\n",
        "\n",
        "\n",
        "** Identifique os 5 itens mais populares por contagem de compras e, em seguida, liste (em uma tabela): **\n",
        "\n",
        "* ID do item\n",
        "* Nome do item\n",
        "* Número de compras\n",
        "* Preço do item\n",
        "* Valor Total de Compra\n",
        "* Itens mais lucrativos\n",
        "\n",
        "\n",
        "** Identifique os 5 itens mais lucrativos pelo valor total de compra e, em seguida, liste (em uma tabela): **\n",
        "\n",
        "* ID do item\n",
        "* Nome do item\n",
        "* Número de compras\n",
        "* Preço do item\n",
        "* Valor Total de Compra\n",
        "\n",
        "\n",
        "** Como considerações finais: **\n",
        "\n",
        "* Seu script deve funcionar para o conjunto de dados fornecido.\n",
        "* Você deve usar a Biblioteca Pandas e o Jupyter Notebook.\n"
      ]
    },
    {
      "cell_type": "markdown",
      "metadata": {
        "id": "t3VroqG--rdj"
      },
      "source": [
        "## Solução desenvolvida abaixo"
      ]
    },
    {
      "cell_type": "code",
      "metadata": {
        "id": "B3aQMqX2gA0E"
      },
      "source": [
        "# imports\n",
        "import pandas as pd\n",
        "import numpy as np\n",
        "import json"
      ],
      "execution_count": 236,
      "outputs": []
    },
    {
      "cell_type": "code",
      "metadata": {
        "id": "F765JgpBgA0f",
        "outputId": "8a86b5cb-eb95-4fbd-ec52-146441d395c2",
        "colab": {
          "base_uri": "https://localhost:8080/",
          "height": 204
        }
      },
      "source": [
        "# faz a leitura do arquivo JSON\n",
        "load_file = 'dados_compras.json'\n",
        "purchase_file = pd.read_json(load_file, orient = 'records')\n",
        "purchase_file.head()\n",
        "\n",
        "display(purchase_file.head())"
      ],
      "execution_count": 237,
      "outputs": [
        {
          "output_type": "display_data",
          "data": {
            "text/html": [
              "<div>\n",
              "<style scoped>\n",
              "    .dataframe tbody tr th:only-of-type {\n",
              "        vertical-align: middle;\n",
              "    }\n",
              "\n",
              "    .dataframe tbody tr th {\n",
              "        vertical-align: top;\n",
              "    }\n",
              "\n",
              "    .dataframe thead th {\n",
              "        text-align: right;\n",
              "    }\n",
              "</style>\n",
              "<table border=\"1\" class=\"dataframe\">\n",
              "  <thead>\n",
              "    <tr style=\"text-align: right;\">\n",
              "      <th></th>\n",
              "      <th>Login</th>\n",
              "      <th>Idade</th>\n",
              "      <th>Sexo</th>\n",
              "      <th>Item ID</th>\n",
              "      <th>Nome do Item</th>\n",
              "      <th>Valor</th>\n",
              "    </tr>\n",
              "  </thead>\n",
              "  <tbody>\n",
              "    <tr>\n",
              "      <th>0</th>\n",
              "      <td>Aelalis34</td>\n",
              "      <td>38</td>\n",
              "      <td>Masculino</td>\n",
              "      <td>165</td>\n",
              "      <td>Bone Crushing Silver Skewer</td>\n",
              "      <td>3.37</td>\n",
              "    </tr>\n",
              "    <tr>\n",
              "      <th>1</th>\n",
              "      <td>Eolo46</td>\n",
              "      <td>21</td>\n",
              "      <td>Masculino</td>\n",
              "      <td>119</td>\n",
              "      <td>Stormbringer, Dark Blade of Ending Misery</td>\n",
              "      <td>2.32</td>\n",
              "    </tr>\n",
              "    <tr>\n",
              "      <th>2</th>\n",
              "      <td>Assastnya25</td>\n",
              "      <td>34</td>\n",
              "      <td>Masculino</td>\n",
              "      <td>174</td>\n",
              "      <td>Primitive Blade</td>\n",
              "      <td>2.46</td>\n",
              "    </tr>\n",
              "    <tr>\n",
              "      <th>3</th>\n",
              "      <td>Pheusrical25</td>\n",
              "      <td>21</td>\n",
              "      <td>Masculino</td>\n",
              "      <td>92</td>\n",
              "      <td>Final Critic</td>\n",
              "      <td>1.36</td>\n",
              "    </tr>\n",
              "    <tr>\n",
              "      <th>4</th>\n",
              "      <td>Aela59</td>\n",
              "      <td>23</td>\n",
              "      <td>Masculino</td>\n",
              "      <td>63</td>\n",
              "      <td>Stormfury Mace</td>\n",
              "      <td>1.27</td>\n",
              "    </tr>\n",
              "  </tbody>\n",
              "</table>\n",
              "</div>"
            ],
            "text/plain": [
              "          Login  Idade  ...                               Nome do Item  Valor\n",
              "0     Aelalis34     38  ...                Bone Crushing Silver Skewer   3.37\n",
              "1        Eolo46     21  ...  Stormbringer, Dark Blade of Ending Misery   2.32\n",
              "2   Assastnya25     34  ...                            Primitive Blade   2.46\n",
              "3  Pheusrical25     21  ...                               Final Critic   1.36\n",
              "4        Aela59     23  ...                             Stormfury Mace   1.27\n",
              "\n",
              "[5 rows x 6 columns]"
            ]
          },
          "metadata": {
            "tags": []
          }
        }
      ]
    },
    {
      "cell_type": "markdown",
      "metadata": {
        "id": "-GO6ah82gA0m"
      },
      "source": [
        "## Informações Sobre os Consumidores"
      ]
    },
    {
      "cell_type": "code",
      "metadata": {
        "id": "1T-0zgoqgA0n",
        "outputId": "d92b5375-902b-4fe5-82fd-dfdfbb48d25e",
        "colab": {
          "base_uri": "https://localhost:8080/",
          "height": 221
        }
      },
      "source": [
        "# cria um outro dataframe apenas com as colunas 'Login', 'Idade' e 'Sexo'\n",
        "user_bio = purchase_file.loc[:, ['Login', 'Idade', 'Sexo']]\n",
        "user_bio = user_bio.drop_duplicates() # remove linhas duplicadas\n",
        "total_users = user_bio.count()[0]\n",
        "\n",
        "print('Total de usuários: ', total_players)\n",
        "display(player_bio.head())"
      ],
      "execution_count": 238,
      "outputs": [
        {
          "output_type": "stream",
          "text": [
            "Total de usuários:  573\n"
          ],
          "name": "stdout"
        },
        {
          "output_type": "display_data",
          "data": {
            "text/html": [
              "<div>\n",
              "<style scoped>\n",
              "    .dataframe tbody tr th:only-of-type {\n",
              "        vertical-align: middle;\n",
              "    }\n",
              "\n",
              "    .dataframe tbody tr th {\n",
              "        vertical-align: top;\n",
              "    }\n",
              "\n",
              "    .dataframe thead th {\n",
              "        text-align: right;\n",
              "    }\n",
              "</style>\n",
              "<table border=\"1\" class=\"dataframe\">\n",
              "  <thead>\n",
              "    <tr style=\"text-align: right;\">\n",
              "      <th></th>\n",
              "      <th>Login</th>\n",
              "      <th>Idade</th>\n",
              "      <th>Sexo</th>\n",
              "    </tr>\n",
              "  </thead>\n",
              "  <tbody>\n",
              "    <tr>\n",
              "      <th>0</th>\n",
              "      <td>Aelalis34</td>\n",
              "      <td>38</td>\n",
              "      <td>Masculino</td>\n",
              "    </tr>\n",
              "    <tr>\n",
              "      <th>1</th>\n",
              "      <td>Eolo46</td>\n",
              "      <td>21</td>\n",
              "      <td>Masculino</td>\n",
              "    </tr>\n",
              "    <tr>\n",
              "      <th>2</th>\n",
              "      <td>Assastnya25</td>\n",
              "      <td>34</td>\n",
              "      <td>Masculino</td>\n",
              "    </tr>\n",
              "    <tr>\n",
              "      <th>3</th>\n",
              "      <td>Pheusrical25</td>\n",
              "      <td>21</td>\n",
              "      <td>Masculino</td>\n",
              "    </tr>\n",
              "    <tr>\n",
              "      <th>4</th>\n",
              "      <td>Aela59</td>\n",
              "      <td>23</td>\n",
              "      <td>Masculino</td>\n",
              "    </tr>\n",
              "  </tbody>\n",
              "</table>\n",
              "</div>"
            ],
            "text/plain": [
              "          Login  Idade       Sexo\n",
              "0     Aelalis34     38  Masculino\n",
              "1        Eolo46     21  Masculino\n",
              "2   Assastnya25     34  Masculino\n",
              "3  Pheusrical25     21  Masculino\n",
              "4        Aela59     23  Masculino"
            ]
          },
          "metadata": {
            "tags": []
          }
        }
      ]
    },
    {
      "cell_type": "markdown",
      "metadata": {
        "id": "xVnYjDdngA0u"
      },
      "source": [
        "## Análise Geral de Compras"
      ]
    },
    {
      "cell_type": "code",
      "metadata": {
        "id": "wFcXPKFtgA0v",
        "outputId": "2b736e89-d3a7-48ec-a3ff-cd3969c8d43e",
        "colab": {
          "base_uri": "https://localhost:8080/",
          "height": 272
        }
      },
      "source": [
        "# cria um outro dataframe apenas com as colunas 'Item ID', 'Nome do Item' e 'Valor'\n",
        "products_info = purchase_file.loc[:, ['Item ID', 'Nome do Item', 'Valor']]\n",
        "\n",
        "products_exclusive_total = products_info.drop_duplicates().count()[0]\n",
        "products_value_sum = products_info[['Valor']].sum()[0]\n",
        "products_total_sum = products_info.count()[0]\n",
        "products_value_average = products_value_sum / products_total_sum\n",
        "\n",
        "print(f'Número de itens exclusivos: {products_exclusive_total}')\n",
        "print(f'Preço médio de compra: ${products_value_average:,.2f}')\n",
        "print(f'Número total de compras: {products_total_sum}')\n",
        "print(f'Rendimento total: ${products_value_sum:,.2f}')\n",
        "\n",
        "display(products_info.head())"
      ],
      "execution_count": 228,
      "outputs": [
        {
          "output_type": "stream",
          "text": [
            "Número de itens exclusivos: 184\n",
            "Preço médio de compra: $2.93\n",
            "Número total de compras: 780\n",
            "Rendimento total: $2,286.33\n"
          ],
          "name": "stdout"
        },
        {
          "output_type": "display_data",
          "data": {
            "text/html": [
              "<div>\n",
              "<style scoped>\n",
              "    .dataframe tbody tr th:only-of-type {\n",
              "        vertical-align: middle;\n",
              "    }\n",
              "\n",
              "    .dataframe tbody tr th {\n",
              "        vertical-align: top;\n",
              "    }\n",
              "\n",
              "    .dataframe thead th {\n",
              "        text-align: right;\n",
              "    }\n",
              "</style>\n",
              "<table border=\"1\" class=\"dataframe\">\n",
              "  <thead>\n",
              "    <tr style=\"text-align: right;\">\n",
              "      <th></th>\n",
              "      <th>Item ID</th>\n",
              "      <th>Nome do Item</th>\n",
              "      <th>Valor</th>\n",
              "    </tr>\n",
              "  </thead>\n",
              "  <tbody>\n",
              "    <tr>\n",
              "      <th>0</th>\n",
              "      <td>165</td>\n",
              "      <td>Bone Crushing Silver Skewer</td>\n",
              "      <td>3.37</td>\n",
              "    </tr>\n",
              "    <tr>\n",
              "      <th>1</th>\n",
              "      <td>119</td>\n",
              "      <td>Stormbringer, Dark Blade of Ending Misery</td>\n",
              "      <td>2.32</td>\n",
              "    </tr>\n",
              "    <tr>\n",
              "      <th>2</th>\n",
              "      <td>174</td>\n",
              "      <td>Primitive Blade</td>\n",
              "      <td>2.46</td>\n",
              "    </tr>\n",
              "    <tr>\n",
              "      <th>3</th>\n",
              "      <td>92</td>\n",
              "      <td>Final Critic</td>\n",
              "      <td>1.36</td>\n",
              "    </tr>\n",
              "    <tr>\n",
              "      <th>4</th>\n",
              "      <td>63</td>\n",
              "      <td>Stormfury Mace</td>\n",
              "      <td>1.27</td>\n",
              "    </tr>\n",
              "  </tbody>\n",
              "</table>\n",
              "</div>"
            ],
            "text/plain": [
              "   Item ID                               Nome do Item  Valor\n",
              "0      165                Bone Crushing Silver Skewer   3.37\n",
              "1      119  Stormbringer, Dark Blade of Ending Misery   2.32\n",
              "2      174                            Primitive Blade   2.46\n",
              "3       92                               Final Critic   1.36\n",
              "4       63                             Stormfury Mace   1.27"
            ]
          },
          "metadata": {
            "tags": []
          }
        }
      ]
    },
    {
      "cell_type": "markdown",
      "metadata": {
        "id": "RNcy_MkPgA02"
      },
      "source": [
        "## Informações Demográficas Por Gênero"
      ]
    },
    {
      "cell_type": "code",
      "metadata": {
        "id": "ftBUThh9gA03",
        "outputId": "8bddc199-cff0-421e-a1a8-4387289f4970",
        "colab": {
          "base_uri": "https://localhost:8080/",
          "height": 68
        }
      },
      "source": [
        "# cria um data frame para os usuarios do sexo 'Masculino'\n",
        "user_bio_m = user_bio[user_bio['Sexo'] == 'Masculino'].drop_duplicates()\n",
        "user_bio_m_average = user_bio_m.count()[0] / total_users * 100\n",
        "\n",
        "# cria um data frame para os usuarios do sexo 'Feminino'\n",
        "player_bio_f = player_bio[player_bio['Sexo'] == 'Feminino'].drop_duplicates()\n",
        "player_bio_f_average = player_bio_f.count()[0] / total_players * 100\n",
        "\n",
        "# cria um data frame para os usuarios do sexo 'Outro / Não Divulgado'\n",
        "user_bio_ni = user_bio[user_bio['Sexo'] == 'Outro / Não Divulgado'].drop_duplicates()\n",
        "user_bio_ni_average = user_bio_ni.count()[0] / total_users * 100\n",
        "\n",
        "print(f'Porcentagem e contagem de compradores do sexo masculino: {player_bio_m_average:.2f}%', )\n",
        "print(f'Porcentagem e contagem de compradores do sexo feminino: {player_bio_f_average:.2f}%')\n",
        "print(f'Porcentagem e contagem de \"outros / não divulgados\": {player_bio_ni_average:.2f}%')"
      ],
      "execution_count": 229,
      "outputs": [
        {
          "output_type": "stream",
          "text": [
            "Porcentagem e contagem de compradores do sexo masculino: 81.15%\n",
            "Porcentagem e contagem de compradores do sexo feminino: 17.45%\n",
            "Porcentagem e contagem de \"outros / não divulgados\": 1.40%\n"
          ],
          "name": "stdout"
        }
      ]
    },
    {
      "cell_type": "markdown",
      "metadata": {
        "id": "jEmCIpOKgA1C"
      },
      "source": [
        "\n",
        "## Análise de Compras Por Gênero\n"
      ]
    },
    {
      "cell_type": "code",
      "metadata": {
        "id": "q5QNoVccgA1D",
        "outputId": "60ad74f6-4317-452c-f946-b0ba54cd1343",
        "colab": {
          "base_uri": "https://localhost:8080/",
          "height": 490
        }
      },
      "source": [
        "# cria um novo dataframe com os dados de compras dos usuario com o sexo 'Masculino'\n",
        "purchases_m = purchase_file[purchase_file['Sexo'] == 'Masculino']\n",
        "purchases_m_total_purchases = purchases_m.count()[0]\n",
        "purchases_m_purchases_sum = purchases_m[['Valor']].sum()[0]\n",
        "purchases_m_purchases_average = purchases_m_purchases_sum / purchases_m_total_purchases\n",
        "\n",
        "# cria um novo dataframe com os dados de compras dos usuario com o sexo 'Masculino'\n",
        "purchases_f = purchase_file[purchase_file['Sexo'] == 'Feminino']\n",
        "purchases_f_total_purchases = purchases_f.count()[0]\n",
        "purchases_f_purchases_sum = purchases_f[['Valor']].sum()[0]\n",
        "purchases_f_purchases_average = purchases_f_purchases_sum / purchases_f_total_purchases\n",
        "\n",
        "# cria um novo dataframe com os dados de compras dos usuario com o sexo 'Masculino'\n",
        "purchases_ni = purchase_file[purchase_file['Sexo'] == 'Outro / Não Divulgado']\n",
        "purchases_ni_total_purchases = purchases_ni.count()[0]\n",
        "purchases_ni_purchases_sum = purchases_ni[['Valor']].sum()[0]\n",
        "purchases_ni_purchases_average = purchases_ni_purchases_sum / purchases_ni_total_purchases\n",
        "\n",
        "# cria um novo dataframe para guardar as informacoes de compra por genero\n",
        "purchases_by_gender = pd.DataFrame([{'Quantidade': purchases_m_total_purchases, \n",
        "                                        'Preco Medio': purchases_m_purchases_average, \n",
        "                                        'Total': purchases_m_purchases_sum}, \n",
        "                                    {'Quantidade': purchases_f_total_purchases, \n",
        "                                        'Preco Medio': purchases_f_purchases_average, \n",
        "                                        'Total': purchases_f_purchases_sum},\n",
        "                                    {'Quantidade': purchases_ni_total_purchases, \n",
        "                                        'Preco Medio': purchases_ni_purchases_average, \n",
        "                                        'Total': purchases_ni_purchases_sum\n",
        "                                    }],\n",
        "                                    index=['Masculino','Feminino','Outro / Não Divulgado'])\n",
        "\n",
        "# formatando os campos com valores monetarios, 'R$' de prefixo e mostrar apenas 2 casas decimais \n",
        "purchases_by_gender['Preco Medio'] = purchases_by_gender['Preco Medio'].map(lambda item: f'${item:,.2f}')\n",
        "purchases_by_gender['Total'] = purchases_by_gender['Total'].map(lambda item: f'${item:,.2f}')\n",
        "\n",
        "print('Compras por genero: ')\n",
        "display(purchases_by_gender)\n",
        "\n",
        "# compras for faixa etaria\n",
        "age_bins = [0, 9, 14, 19, 24, 29, 34, 39, 999]\n",
        "age_bracket = ['<= 10', '10 a 14', '15 a 19', '20 a 24', '25 a 29', '30 a 34', '35 a 39', '>= 40']\n",
        "purchase_file['Range de Idade'] = pd.cut(purchase_file[\"Idade\"], age_bins, labels=age_bracket)\n",
        "purchases_age_count = purchase_file['Range de Idade'].value_counts()\n",
        "\n",
        "# novo dataframe para guardar as informações de compra por faixa etaria\n",
        "purchases_age_range = pd.DataFrame({'Quantidade': purchases_age_count})\n",
        "\n",
        "print('\\n\\nCompras for faixa etária:')\n",
        "display(purchases_age_range.sort_index())"
      ],
      "execution_count": 230,
      "outputs": [
        {
          "output_type": "stream",
          "text": [
            "Compras por genero: \n"
          ],
          "name": "stdout"
        },
        {
          "output_type": "display_data",
          "data": {
            "text/html": [
              "<div>\n",
              "<style scoped>\n",
              "    .dataframe tbody tr th:only-of-type {\n",
              "        vertical-align: middle;\n",
              "    }\n",
              "\n",
              "    .dataframe tbody tr th {\n",
              "        vertical-align: top;\n",
              "    }\n",
              "\n",
              "    .dataframe thead th {\n",
              "        text-align: right;\n",
              "    }\n",
              "</style>\n",
              "<table border=\"1\" class=\"dataframe\">\n",
              "  <thead>\n",
              "    <tr style=\"text-align: right;\">\n",
              "      <th></th>\n",
              "      <th>Quantidade</th>\n",
              "      <th>Preco Medio</th>\n",
              "      <th>Total</th>\n",
              "    </tr>\n",
              "  </thead>\n",
              "  <tbody>\n",
              "    <tr>\n",
              "      <th>Masculino</th>\n",
              "      <td>633</td>\n",
              "      <td>$2.95</td>\n",
              "      <td>$1,867.68</td>\n",
              "    </tr>\n",
              "    <tr>\n",
              "      <th>Feminino</th>\n",
              "      <td>136</td>\n",
              "      <td>$2.82</td>\n",
              "      <td>$382.91</td>\n",
              "    </tr>\n",
              "    <tr>\n",
              "      <th>Outro / Não Divulgado</th>\n",
              "      <td>11</td>\n",
              "      <td>$3.25</td>\n",
              "      <td>$35.74</td>\n",
              "    </tr>\n",
              "  </tbody>\n",
              "</table>\n",
              "</div>"
            ],
            "text/plain": [
              "                       Quantidade Preco Medio      Total\n",
              "Masculino                     633       $2.95  $1,867.68\n",
              "Feminino                      136       $2.82    $382.91\n",
              "Outro / Não Divulgado          11       $3.25     $35.74"
            ]
          },
          "metadata": {
            "tags": []
          }
        },
        {
          "output_type": "stream",
          "text": [
            "\n",
            "\n",
            "Compras for faixa etária:\n"
          ],
          "name": "stdout"
        },
        {
          "output_type": "display_data",
          "data": {
            "text/html": [
              "<div>\n",
              "<style scoped>\n",
              "    .dataframe tbody tr th:only-of-type {\n",
              "        vertical-align: middle;\n",
              "    }\n",
              "\n",
              "    .dataframe tbody tr th {\n",
              "        vertical-align: top;\n",
              "    }\n",
              "\n",
              "    .dataframe thead th {\n",
              "        text-align: right;\n",
              "    }\n",
              "</style>\n",
              "<table border=\"1\" class=\"dataframe\">\n",
              "  <thead>\n",
              "    <tr style=\"text-align: right;\">\n",
              "      <th></th>\n",
              "      <th>Quantidade</th>\n",
              "    </tr>\n",
              "  </thead>\n",
              "  <tbody>\n",
              "    <tr>\n",
              "      <th>&lt;= 10</th>\n",
              "      <td>28</td>\n",
              "    </tr>\n",
              "    <tr>\n",
              "      <th>10 a 14</th>\n",
              "      <td>35</td>\n",
              "    </tr>\n",
              "    <tr>\n",
              "      <th>15 a 19</th>\n",
              "      <td>133</td>\n",
              "    </tr>\n",
              "    <tr>\n",
              "      <th>20 a 24</th>\n",
              "      <td>336</td>\n",
              "    </tr>\n",
              "    <tr>\n",
              "      <th>25 a 29</th>\n",
              "      <td>125</td>\n",
              "    </tr>\n",
              "    <tr>\n",
              "      <th>30 a 34</th>\n",
              "      <td>64</td>\n",
              "    </tr>\n",
              "    <tr>\n",
              "      <th>35 a 39</th>\n",
              "      <td>42</td>\n",
              "    </tr>\n",
              "    <tr>\n",
              "      <th>&gt;= 40</th>\n",
              "      <td>17</td>\n",
              "    </tr>\n",
              "  </tbody>\n",
              "</table>\n",
              "</div>"
            ],
            "text/plain": [
              "         Quantidade\n",
              "<= 10            28\n",
              "10 a 14          35\n",
              "15 a 19         133\n",
              "20 a 24         336\n",
              "25 a 29         125\n",
              "30 a 34          64\n",
              "35 a 39          42\n",
              ">= 40            17"
            ]
          },
          "metadata": {
            "tags": []
          }
        }
      ]
    },
    {
      "cell_type": "markdown",
      "metadata": {
        "id": "XpHxB3H8gA1T"
      },
      "source": [
        "## Consumidores Mais Populares (Top 5)"
      ]
    },
    {
      "cell_type": "code",
      "metadata": {
        "id": "QPt-hjmlgA1U",
        "outputId": "55f37475-80ce-459d-bd75-b486bd024bf0",
        "colab": {
          "base_uri": "https://localhost:8080/",
          "height": 252
        }
      },
      "source": [
        "user_total = purchase_file.groupby(['Login']).sum()['Valor']\n",
        "user_average = purchase_file.groupby(['Login']).mean()['Valor']\n",
        "user_count = purchase_file.groupby(['Login']).count()['Valor']\n",
        "\n",
        "# cria um novo dataframe para guardar os dados dos usuarios\n",
        "user_data = pd.DataFrame({'Total Gasto': user_total,\n",
        "                          'Valor Medio': user_average,\n",
        "                          'N de Compras': user_count})\n",
        "\n",
        "\n",
        "user_data['Total Gasto'] = user_data['Total Gasto'].map(lambda item: f'${item:,.2f}')\n",
        "user_data['Valor Medio'] = user_data['Valor Medio'].map(lambda item: f'${item:,.2f}')\n",
        "print('Consumidores mais populares (Top 5): ')\n",
        "display(user_data.sort_values('Total Gasto', ascending=False).head(5))"
      ],
      "execution_count": 231,
      "outputs": [
        {
          "output_type": "stream",
          "text": [
            "Consumidores mais populares (Top 5): \n"
          ],
          "name": "stdout"
        },
        {
          "output_type": "display_data",
          "data": {
            "text/html": [
              "<div>\n",
              "<style scoped>\n",
              "    .dataframe tbody tr th:only-of-type {\n",
              "        vertical-align: middle;\n",
              "    }\n",
              "\n",
              "    .dataframe tbody tr th {\n",
              "        vertical-align: top;\n",
              "    }\n",
              "\n",
              "    .dataframe thead th {\n",
              "        text-align: right;\n",
              "    }\n",
              "</style>\n",
              "<table border=\"1\" class=\"dataframe\">\n",
              "  <thead>\n",
              "    <tr style=\"text-align: right;\">\n",
              "      <th></th>\n",
              "      <th>Total Gasto</th>\n",
              "      <th>Valor Medio</th>\n",
              "      <th>N de Compras</th>\n",
              "    </tr>\n",
              "    <tr>\n",
              "      <th>Login</th>\n",
              "      <th></th>\n",
              "      <th></th>\n",
              "      <th></th>\n",
              "    </tr>\n",
              "  </thead>\n",
              "  <tbody>\n",
              "    <tr>\n",
              "      <th>Qarwen67</th>\n",
              "      <td>$9.97</td>\n",
              "      <td>$2.49</td>\n",
              "      <td>4</td>\n",
              "    </tr>\n",
              "    <tr>\n",
              "      <th>Sondim43</th>\n",
              "      <td>$9.38</td>\n",
              "      <td>$3.13</td>\n",
              "      <td>3</td>\n",
              "    </tr>\n",
              "    <tr>\n",
              "      <th>Tillyrin30</th>\n",
              "      <td>$9.19</td>\n",
              "      <td>$3.06</td>\n",
              "      <td>3</td>\n",
              "    </tr>\n",
              "    <tr>\n",
              "      <th>Lisistaya47</th>\n",
              "      <td>$9.19</td>\n",
              "      <td>$3.06</td>\n",
              "      <td>3</td>\n",
              "    </tr>\n",
              "    <tr>\n",
              "      <th>Tyisriphos58</th>\n",
              "      <td>$9.18</td>\n",
              "      <td>$4.59</td>\n",
              "      <td>2</td>\n",
              "    </tr>\n",
              "  </tbody>\n",
              "</table>\n",
              "</div>"
            ],
            "text/plain": [
              "             Total Gasto Valor Medio  N de Compras\n",
              "Login                                             \n",
              "Qarwen67           $9.97       $2.49             4\n",
              "Sondim43           $9.38       $3.13             3\n",
              "Tillyrin30         $9.19       $3.06             3\n",
              "Lisistaya47        $9.19       $3.06             3\n",
              "Tyisriphos58       $9.18       $4.59             2"
            ]
          },
          "metadata": {
            "tags": []
          }
        }
      ]
    },
    {
      "cell_type": "markdown",
      "metadata": {
        "id": "uecVospogA1f"
      },
      "source": [
        "## Itens Mais Populares"
      ]
    },
    {
      "cell_type": "code",
      "metadata": {
        "id": "OaaCRvXigA1g",
        "outputId": "87b310a0-5bfd-4ea5-f104-a79631025b0b",
        "colab": {
          "base_uri": "https://localhost:8080/",
          "height": 252
        }
      },
      "source": [
        "product_total = purchase_file.groupby(['Nome do Item']).sum()['Valor']\n",
        "product_average = purchase_file.groupby(['Nome do Item']).mean()['Valor']\n",
        "product_count = purchase_file.groupby(['Nome do Item']).count()['Valor']\n",
        "\n",
        "# cria um novo dataframe para guardar os dados dos produtos\n",
        "product_data = pd.DataFrame({'Total Gasto': product_total,\n",
        "                          'Valor Medio': product_average,\n",
        "                          'N de Compras': product_count})\n",
        "\n",
        "\n",
        "product_data['Total Gasto'] = product_data['Total Gasto'].map(lambda item: f'${item:,.2f}')\n",
        "product_data['Valor Medio'] = product_data['Valor Medio'].map(lambda item: f'${item:,.2f}')\n",
        "print('Itens mais populares (Top 5): ')\n",
        "display(product_data.sort_values('N de Compras', ascending=False).head(5))"
      ],
      "execution_count": 232,
      "outputs": [
        {
          "output_type": "stream",
          "text": [
            "Itens mais populares (Top 5): \n"
          ],
          "name": "stdout"
        },
        {
          "output_type": "display_data",
          "data": {
            "text/html": [
              "<div>\n",
              "<style scoped>\n",
              "    .dataframe tbody tr th:only-of-type {\n",
              "        vertical-align: middle;\n",
              "    }\n",
              "\n",
              "    .dataframe tbody tr th {\n",
              "        vertical-align: top;\n",
              "    }\n",
              "\n",
              "    .dataframe thead th {\n",
              "        text-align: right;\n",
              "    }\n",
              "</style>\n",
              "<table border=\"1\" class=\"dataframe\">\n",
              "  <thead>\n",
              "    <tr style=\"text-align: right;\">\n",
              "      <th></th>\n",
              "      <th>Total Gasto</th>\n",
              "      <th>Valor Medio</th>\n",
              "      <th>N de Compras</th>\n",
              "    </tr>\n",
              "    <tr>\n",
              "      <th>Nome do Item</th>\n",
              "      <th></th>\n",
              "      <th></th>\n",
              "      <th></th>\n",
              "    </tr>\n",
              "  </thead>\n",
              "  <tbody>\n",
              "    <tr>\n",
              "      <th>Final Critic</th>\n",
              "      <td>$38.60</td>\n",
              "      <td>$2.76</td>\n",
              "      <td>14</td>\n",
              "    </tr>\n",
              "    <tr>\n",
              "      <th>Arcane Gem</th>\n",
              "      <td>$24.53</td>\n",
              "      <td>$2.23</td>\n",
              "      <td>11</td>\n",
              "    </tr>\n",
              "    <tr>\n",
              "      <th>Betrayal, Whisper of Grieving Widows</th>\n",
              "      <td>$25.85</td>\n",
              "      <td>$2.35</td>\n",
              "      <td>11</td>\n",
              "    </tr>\n",
              "    <tr>\n",
              "      <th>Stormcaller</th>\n",
              "      <td>$34.65</td>\n",
              "      <td>$3.46</td>\n",
              "      <td>10</td>\n",
              "    </tr>\n",
              "    <tr>\n",
              "      <th>Woeful Adamantite Claymore</th>\n",
              "      <td>$11.16</td>\n",
              "      <td>$1.24</td>\n",
              "      <td>9</td>\n",
              "    </tr>\n",
              "  </tbody>\n",
              "</table>\n",
              "</div>"
            ],
            "text/plain": [
              "                                     Total Gasto Valor Medio  N de Compras\n",
              "Nome do Item                                                              \n",
              "Final Critic                              $38.60       $2.76            14\n",
              "Arcane Gem                                $24.53       $2.23            11\n",
              "Betrayal, Whisper of Grieving Widows      $25.85       $2.35            11\n",
              "Stormcaller                               $34.65       $3.46            10\n",
              "Woeful Adamantite Claymore                $11.16       $1.24             9"
            ]
          },
          "metadata": {
            "tags": []
          }
        }
      ]
    },
    {
      "cell_type": "markdown",
      "metadata": {
        "id": "jQnJ1S1igA1o"
      },
      "source": [
        "## Itens Mais Lucrativos"
      ]
    },
    {
      "cell_type": "code",
      "metadata": {
        "id": "81DekXpngA1r",
        "outputId": "f01dadf5-2714-4e7b-a81d-5a7366446945",
        "colab": {
          "base_uri": "https://localhost:8080/",
          "height": 252
        }
      },
      "source": [
        "print('Itens mais lucrativos (Top 5): ')\n",
        "display(product_data.sort_values('Valor Medio', ascending=False).head(5))"
      ],
      "execution_count": 234,
      "outputs": [
        {
          "output_type": "stream",
          "text": [
            "Itens mais lucrativos (Top 5): \n"
          ],
          "name": "stdout"
        },
        {
          "output_type": "display_data",
          "data": {
            "text/html": [
              "<div>\n",
              "<style scoped>\n",
              "    .dataframe tbody tr th:only-of-type {\n",
              "        vertical-align: middle;\n",
              "    }\n",
              "\n",
              "    .dataframe tbody tr th {\n",
              "        vertical-align: top;\n",
              "    }\n",
              "\n",
              "    .dataframe thead th {\n",
              "        text-align: right;\n",
              "    }\n",
              "</style>\n",
              "<table border=\"1\" class=\"dataframe\">\n",
              "  <thead>\n",
              "    <tr style=\"text-align: right;\">\n",
              "      <th></th>\n",
              "      <th>Total Gasto</th>\n",
              "      <th>Valor Medio</th>\n",
              "      <th>N de Compras</th>\n",
              "    </tr>\n",
              "    <tr>\n",
              "      <th>Nome do Item</th>\n",
              "      <th></th>\n",
              "      <th></th>\n",
              "      <th></th>\n",
              "    </tr>\n",
              "  </thead>\n",
              "  <tbody>\n",
              "    <tr>\n",
              "      <th>Singed Onyx Warscythe</th>\n",
              "      <td>$5.15</td>\n",
              "      <td>$1.03</td>\n",
              "      <td>5</td>\n",
              "    </tr>\n",
              "    <tr>\n",
              "      <th>Hero Cane</th>\n",
              "      <td>$4.12</td>\n",
              "      <td>$1.03</td>\n",
              "      <td>4</td>\n",
              "    </tr>\n",
              "    <tr>\n",
              "      <th>Soul Infused Crystal</th>\n",
              "      <td>$6.18</td>\n",
              "      <td>$1.03</td>\n",
              "      <td>6</td>\n",
              "    </tr>\n",
              "    <tr>\n",
              "      <th>Frenzy, Defender of the Harvest</th>\n",
              "      <td>$3.18</td>\n",
              "      <td>$1.06</td>\n",
              "      <td>3</td>\n",
              "    </tr>\n",
              "    <tr>\n",
              "      <th>Yearning Crusher</th>\n",
              "      <td>$2.12</td>\n",
              "      <td>$1.06</td>\n",
              "      <td>2</td>\n",
              "    </tr>\n",
              "  </tbody>\n",
              "</table>\n",
              "</div>"
            ],
            "text/plain": [
              "                                Total Gasto Valor Medio  N de Compras\n",
              "Nome do Item                                                         \n",
              "Singed Onyx Warscythe                 $5.15       $1.03             5\n",
              "Hero Cane                             $4.12       $1.03             4\n",
              "Soul Infused Crystal                  $6.18       $1.03             6\n",
              "Frenzy, Defender of the Harvest       $3.18       $1.06             3\n",
              "Yearning Crusher                      $2.12       $1.06             2"
            ]
          },
          "metadata": {
            "tags": []
          }
        }
      ]
    }
  ]
}